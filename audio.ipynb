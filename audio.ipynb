{
 "cells": [
  {
   "cell_type": "code",
   "execution_count": 3,
   "metadata": {},
   "outputs": [],
   "source": [
    "import numpy as np\n",
    "from scipy.io import wavfile\n",
    "import matplotlib.pyplot as plt"
   ]
  },
  {
   "cell_type": "code",
   "execution_count": 84,
   "metadata": {},
   "outputs": [],
   "source": [
    "frequency_difference = 625\n",
    "freq1 = 400\n",
    "freq2 = freq1 + frequency_difference\n",
    "freq3 = freq2 + frequency_difference\n",
    "freq4 = freq3 + frequency_difference"
   ]
  },
  {
   "cell_type": "code",
   "execution_count": 5,
   "metadata": {},
   "outputs": [],
   "source": [
    "def openWavFile(filename):\n",
    "    sampling_rate, data = wavfile.read(filename)\n",
    "    print(f\"sampling rate: {sampling_rate}\")\n",
    "\n",
    "    length = data.shape[0] / sampling_rate\n",
    "    print(f\"length = {length}s\")\n",
    "    \n",
    "    return sampling_rate, data"
   ]
  },
  {
   "cell_type": "code",
   "execution_count": 6,
   "metadata": {},
   "outputs": [],
   "source": [
    "def extract_peak_frequency(data, sampling_rate):\n",
    "    fft_data = np.fft.fft(data)\n",
    "    freqs = np.fft.fftfreq(len(data))\n",
    "    \n",
    "    peak_coefficient = np.argmax(np.abs(fft_data))\n",
    "    peak_freq = freqs[peak_coefficient]\n",
    "    \n",
    "    return abs(peak_freq * sampling_rate)"
   ]
  },
  {
   "cell_type": "code",
   "execution_count": 7,
   "metadata": {},
   "outputs": [],
   "source": [
    "def getChunks(milliseconds, sampling_rate):\n",
    "    #divide this extracted data into 50ms chunks, and find the peak or dominant frequency of each chunk\n",
    "    #now if the chunk's peak frequency is 1200Hz, then it is 0 bit and if it's 1400Hz, then it is 1 bit.\n",
    "    #group these bits together and that's the received data\n",
    "    try:\n",
    "        milliseconds = milliseconds/1000\n",
    "\n",
    "        delay = int(milliseconds*sampling_rate)\n",
    "        print(f\"delay between tones: {delay} samples\")\n",
    "        chunks = []\n",
    "\n",
    "        data_length = len(data) - len(data)%delay\n",
    "        prev = 0\n",
    "\n",
    "        for i in range(delay, data_length, delay):\n",
    "            chunks.append(data[prev:i])\n",
    "            prev = i\n",
    "    except:\n",
    "        pass\n",
    "    \n",
    "    \n",
    "    return chunks"
   ]
  },
  {
   "cell_type": "code",
   "execution_count": 8,
   "metadata": {},
   "outputs": [],
   "source": [
    "def extractData(chunks, sampling_rate):\n",
    "    try:\n",
    "        peak_freqs = []\n",
    "        for chunk in chunks:\n",
    "            peak_freqs.append(round(extract_peak_frequency(chunk, sampling_rate), 0))\n",
    "    except:\n",
    "        pass\n",
    "    \n",
    "    return peak_freqs"
   ]
  },
  {
   "cell_type": "code",
   "execution_count": 92,
   "metadata": {},
   "outputs": [],
   "source": [
    "def extractBits(peak_freqs):\n",
    "    bits = []\n",
    "    foundStartSequence = False\n",
    "    foundEndSequence = False\n",
    "    bin_bits = \"\"\n",
    "    for frequency in peak_freqs:\n",
    "        if(frequency >= 1190 and frequency <= 1210 and foundStartSequence == False):\n",
    "            foundStartSequence = True\n",
    "            print(\"Start sequence found!\")\n",
    "        \n",
    "        elif(frequency >= 2390 and frequency <= 2410 and foundEndSequence == False):\n",
    "            foundEndSequence = True\n",
    "            print(\"End sequence found!\")\n",
    "            break\n",
    "        \n",
    "        elif(frequency >= freq1-100.0 and frequency <= freq1+100.0):\n",
    "            bin_bits += \"00\"\n",
    "        \n",
    "        elif(frequency >= freq2-100.0 and frequency <= freq2+100.0):\n",
    "            bin_bits += \"01\"\n",
    "\n",
    "        elif(frequency >= freq3-100.0 and frequency <= freq3+100.0):\n",
    "            bin_bits += \"10\"\n",
    "\n",
    "        elif(frequency >= freq4-100.0 and frequency <= freq4+100.0):\n",
    "            bin_bits += \"11\"\n",
    "            \n",
    "    \n",
    "    #for i in range(len(bits)):\n",
    "    #    if (i+1)%4 == 0:\n",
    "    #        s += str(bits[i])\n",
    "    #        bin_bits.append(s)\n",
    "    #        s = \"\"\n",
    "    #    else:\n",
    "    #        s += str(bits[i])\n",
    "\n",
    "    print(bin_bits)\n",
    "    return bin_bits"
   ]
  },
  {
   "cell_type": "code",
   "execution_count": 10,
   "metadata": {},
   "outputs": [],
   "source": [
    "def decodeAscii(bin_string):\n",
    "    \"\"\"binary_int = int(bin_string, 2);\n",
    "    byte_number = binary_int.bit_length() + 7 // 8\n",
    "    binary_array = binary_int.to_bytes(byte_number, \"big\")\n",
    "    ascii_text = \"Bin string cannot be decoded\"\n",
    "    for enc in ['utf-8', 'ascii', 'ansi']:\n",
    "        try:\n",
    "            ascii_text = binary_array.decode(encoding=enc)\n",
    "            break\n",
    "        except:\n",
    "            pass\n",
    "    print(ascii_text)\"\"\"\n",
    "    \n",
    "    \n",
    "    bin_to_str = \"\".join([chr(int(bin_string[i:i+8],2)) for i in range(0,len(bin_string),8)])\n",
    "\n",
    "    return bin_to_str"
   ]
  },
  {
   "cell_type": "code",
   "execution_count": 93,
   "metadata": {},
   "outputs": [
    {
     "name": "stdout",
     "output_type": "stream",
     "text": [
      "sampling rate: 48000\n",
      "length = 1.36s\n",
      "delay between tones: 192 samples\n"
     ]
    }
   ],
   "source": [
    "filename = input(\"Enter the wave file with extension: \")\n",
    "millis = int(input(\"Enter the delay between tones in milliseconds: \"))\n",
    "#now open the wav file\n",
    "sampling_rate, data = openWavFile(filename + \".wav\")\n",
    "\n",
    "#extract the chunks, each chunk is of 10ms in size\n",
    "chunks = getChunks(millis, sampling_rate)"
   ]
  },
  {
   "cell_type": "code",
   "execution_count": 94,
   "metadata": {},
   "outputs": [],
   "source": [
    "#get the peak frequencies from the chunks\n",
    "peak_freqs = extractData(chunks, sampling_rate)"
   ]
  },
  {
   "cell_type": "code",
   "execution_count": 95,
   "metadata": {},
   "outputs": [
    {
     "name": "stdout",
     "output_type": "stream",
     "text": [
      "011000100100011100110001011010000110001001111001010000100111001101100010010101110100011001110110010010010100011101111000011101000101100101010111001110000110011101010110001100100011100101110001011001000100011101010110011100100100100101001101010101110110001001100010010101110110110001101100011000110110110101010010001101100110000101010011010000100111001101100010010101110100011001110110010010010100011101111000011101000101100101010111001110000110011101100010010001110011000101101000011000100111100101000010010110000110001000110010011100000011000001011010010101110111001101100111011110000101101001110100011101000110000101010111010101100111100101011010010010000111000001110000\n"
     ]
    }
   ],
   "source": [
    "bits = extractBits(peak_freqs)"
   ]
  },
  {
   "cell_type": "code",
   "execution_count": 96,
   "metadata": {},
   "outputs": [],
   "source": [
    "bin_string = \"\"\n",
    "\n",
    "for i in bits:\n",
    "    bin_string += i\n",
    "    \n",
    "#print(bin_string)\n",
    "\n",
    "#split the binary string at spaces, because, I don't know how to decode a space character(0100000)\n",
    "bin_splits = bin_string.split(\"0100000\")"
   ]
  },
  {
   "cell_type": "code",
   "execution_count": 97,
   "metadata": {},
   "outputs": [
    {
     "name": "stdout",
     "output_type": "stream",
     "text": [
      "bG1hbyBsbWFvIGxtYW8gV29qdGVrIMWbbWllcmR6aSBsbWFvIGxtYW8gbG1hbyBXb2p0ZWsgxZttaWVyZHpp \n",
      "bG1hbyBsbWFvIGxtYW8gV29qdGVrIMWbbWllcmR6aSBsbWFvIGxtYW8gbG1hbyBXb2p0ZWsgxZttaWVyZHpp\n"
     ]
    }
   ],
   "source": [
    "for s in bin_splits:\n",
    "    print(decodeAscii(s), end=\" \")\n",
    "print(\"\\nbG1hbyBsbWFvIGxtYW8gV29qdGVrIMWbbWllcmR6aSBsbWFvIGxtYW8gbG1hbyBXb2p0ZWsgxZttaWVyZHpp\")"
   ]
  },
  {
   "cell_type": "code",
   "execution_count": null,
   "metadata": {},
   "outputs": [],
   "source": []
  },
  {
   "cell_type": "code",
   "execution_count": null,
   "metadata": {},
   "outputs": [],
   "source": []
  }
 ],
 "metadata": {
  "interpreter": {
   "hash": "4f946df053fbf2b937619d3c5458e7af74262f9a954d8797ba0b27400bcafe06"
  },
  "kernelspec": {
   "display_name": "Python 3.10.4 64-bit",
   "language": "python",
   "name": "python3"
  },
  "language_info": {
   "codemirror_mode": {
    "name": "ipython",
    "version": 3
   },
   "file_extension": ".py",
   "mimetype": "text/x-python",
   "name": "python",
   "nbconvert_exporter": "python",
   "pygments_lexer": "ipython3",
   "version": "3.10.4"
  }
 },
 "nbformat": 4,
 "nbformat_minor": 4
}
